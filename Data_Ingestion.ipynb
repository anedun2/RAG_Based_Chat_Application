{
 "cells": [
  {
   "cell_type": "markdown",
   "metadata": {},
   "source": [
    "# Data Ingestion\n"
   ]
  },
  {
   "cell_type": "markdown",
   "metadata": {},
   "source": [
    "## This Python Notebook parses the PDF files from the URLs; uses LlamaIndex to index the parsed content and store the index locally"
   ]
  },
  {
   "cell_type": "code",
   "execution_count": 3,
   "metadata": {},
   "outputs": [],
   "source": [
    "#Import libraries\n",
    "import PyPDF2\n",
    "import requests\n",
    "import pandas as pd\n",
    "from typing_extensions import Protocol\n",
    "from llama_index.node_parser import SimpleNodeParser\n",
    "import openai\n",
    "from pathlib import Path\n",
    "from llama_index import download_loader\n",
    "from llama_index.node_parser import SimpleNodeParser\n",
    "from llama_index import GPTVectorStoreIndex\n",
    "import config\n"
   ]
  },
  {
   "cell_type": "code",
   "execution_count": 2,
   "metadata": {},
   "outputs": [],
   "source": [
    "#OpenAI API Key Authentication (The OpenAI API Key will be stored in the config.py file)\n",
    "openai.api_key = config.openai_key"
   ]
  },
  {
   "cell_type": "code",
   "execution_count": 3,
   "metadata": {},
   "outputs": [
    {
     "name": "stdout",
     "output_type": "stream",
     "text": [
      "   id                                                URL  \\\n",
      "0   1  https://dl.acm.org/doi/pdf/10.1145/3397271.340...   \n",
      "1   2               https://arxiv.org/pdf/2104.07186.pdf   \n",
      "2   3               https://arxiv.org/pdf/2106.14807.pdf   \n",
      "3   4               https://arxiv.org/pdf/2301.03266.pdf   \n",
      "4   5               https://arxiv.org/pdf/2303.07678.pdf   \n",
      "\n",
      "                                     Research_Papers  \n",
      "0  ColBERT: Efficient and Effective Passage Searc...  \n",
      "1  COIL: Revisit Exact Lexical Match in Informati...  \n",
      "2  A Few Brief Notes on DeepImpact, COIL, and a C...  \n",
      "3  Doc2Query--: When Less is More\\nMitko Gospodin...  \n",
      "4  Query2doc: Query Expansion with Large Language...  \n"
     ]
    }
   ],
   "source": [
    "#Parse PDF files from URLs\n",
    "\n",
    "#Function to parse the PDF Files from URLs\n",
    "def parse_pdf(url):\n",
    "    response = requests.get(url)\n",
    "    with open('temp.pdf', 'wb') as f:\n",
    "        f.write(response.content)\n",
    "\n",
    "    pdf_file = open('temp.pdf', 'rb')\n",
    "    pdf_reader = PyPDF2.PdfReader(pdf_file)\n",
    "\n",
    "    num_pages = len(pdf_reader.pages)\n",
    "    text = \"\"\n",
    "    for page_number in range(num_pages):\n",
    "        page = pdf_reader.pages[page_number] \n",
    "        text += page.extract_text()\n",
    "\n",
    "    pdf_file.close()\n",
    "    return text\n",
    "\n",
    "#List of URLs where PDF Files should be extracted\n",
    "urls = [\n",
    "    \"https://dl.acm.org/doi/pdf/10.1145/3397271.3401075\",\n",
    "    \"https://arxiv.org/pdf/2104.07186.pdf\",\n",
    "    \"https://arxiv.org/pdf/2106.14807.pdf\",\n",
    "    \"https://arxiv.org/pdf/2301.03266.pdf\",\n",
    "    \"https://arxiv.org/pdf/2303.07678.pdf\"\n",
    "]\n",
    "\n",
    "i = 0\n",
    "data = []\n",
    "\n",
    "#The for loop parses each PDF File and stores it a dataframe\n",
    "for url in urls:\n",
    "    i+=1\n",
    "    pdf_text = parse_pdf(url)\n",
    "    data.append({'id': i ,'URL': url, 'Research_Papers': pdf_text})\n",
    "\n",
    "df = pd.DataFrame(data)\n",
    "print(df)"
   ]
  },
  {
   "cell_type": "code",
   "execution_count": 4,
   "metadata": {},
   "outputs": [],
   "source": [
    "#Saving the parsed PDFs to a CSV file\n",
    "df.to_csv('research_papers.csv')"
   ]
  },
  {
   "cell_type": "code",
   "execution_count": 4,
   "metadata": {},
   "outputs": [],
   "source": [
    "#Using Data Loader from Llamahub( https://llamahub.ai/ )  to load the csv file \n",
    "PandasCSVReader = download_loader(\"PandasCSVReader\")\n",
    "\n",
    "\n",
    "loader = PandasCSVReader()\n",
    "docs = loader.load_data(file=Path('research_papers.csv'))"
   ]
  },
  {
   "cell_type": "code",
   "execution_count": 6,
   "metadata": {},
   "outputs": [],
   "source": [
    "#docs"
   ]
  },
  {
   "cell_type": "code",
   "execution_count": 7,
   "metadata": {},
   "outputs": [],
   "source": [
    "#Parse the docs into nodes\n",
    "# Node parsers are a simple abstraction that take a list of documents, and chunk them into Node objects\n",
    "\n",
    "parser = SimpleNodeParser()\n",
    "nodes = parser.get_nodes_from_documents(docs)"
   ]
  },
  {
   "cell_type": "code",
   "execution_count": 7,
   "metadata": {},
   "outputs": [],
   "source": [
    "#nodes"
   ]
  },
  {
   "cell_type": "code",
   "execution_count": 10,
   "metadata": {},
   "outputs": [],
   "source": [
    "from llama_index import ServiceContext\n",
    "from llama_index.llms import OpenAI\n",
    "\n",
    "# Necessary to use the latest OpenAI models that support function calling API\n",
    "service_context = ServiceContext.from_defaults(llm=OpenAI(model=\"gpt-3.5-turbo\"))\n",
    "\n",
    "#Index the Nodes\n",
    "index = GPTVectorStoreIndex(nodes, service_context=service_context)\n",
    "\n",
    "#An Index is a data structure that allows us to quickly retrieve relevant context for a user query."
   ]
  },
  {
   "cell_type": "code",
   "execution_count": 11,
   "metadata": {},
   "outputs": [],
   "source": [
    "#Store the Index\n",
    "index.storage_context.persist(persist_dir=\"index\")"
   ]
  },
  {
   "cell_type": "code",
   "execution_count": null,
   "metadata": {},
   "outputs": [],
   "source": []
  }
 ],
 "metadata": {
  "kernelspec": {
   "display_name": "Python 3",
   "language": "python",
   "name": "python3"
  },
  "language_info": {
   "codemirror_mode": {
    "name": "ipython",
    "version": 3
   },
   "file_extension": ".py",
   "mimetype": "text/x-python",
   "name": "python",
   "nbconvert_exporter": "python",
   "pygments_lexer": "ipython3",
   "version": "3.11.4"
  },
  "orig_nbformat": 4
 },
 "nbformat": 4,
 "nbformat_minor": 2
}
